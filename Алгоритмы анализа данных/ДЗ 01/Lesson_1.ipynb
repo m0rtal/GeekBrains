{
 "cells": [
  {
   "cell_type": "markdown",
   "metadata": {},
   "source": [
    "# Урок 1. Алгоритм линейной регрессии. Градиентный спуск"
   ]
  },
  {
   "cell_type": "markdown",
   "metadata": {},
   "source": [
    "### Домашнее задания"
   ]
  },
  {
   "cell_type": "markdown",
   "metadata": {
    "colab_type": "text",
    "id": "huXrhXQsZTMt"
   },
   "source": [
    "1. Подберите скорость обучения (alpha) и количество итераций для градиентного спуска (до совпадения ответов с результатами МНК). Как влияют друг на друга эти два параметра?"
   ]
  },
  {
   "cell_type": "code",
   "execution_count": 1,
   "metadata": {
    "pycharm": {
     "name": "#%%\n"
    }
   },
   "outputs": [],
   "source": [
    "import numpy as np\n",
    "\n",
    "X = np.array([[1, 1, 1, 1, 1, 1, 1, 1, 1, 1],  # для умножения на intercept\n",
    "              [1, 1, 2, 1, 3, 0, 5, 10, 1, 2]]).T  # стаж репетитора\n",
    "# средний балл ЕГЭ (целевая переменная)\n",
    "y = [45, 55, 50, 59, 65, 35, 75, 80, 50, 60]"
   ]
  },
  {
   "cell_type": "code",
   "execution_count": 2,
   "metadata": {
    "pycharm": {
     "name": "#%%\n"
    }
   },
   "outputs": [],
   "source": [
    "def calc_mse(y, y_pred):\n",
    "    err = np.mean((y - y_pred) ** 2)\n",
    "    return err"
   ]
  },
  {
   "cell_type": "code",
   "execution_count": 3,
   "metadata": {
    "colab": {
     "base_uri": "https://localhost:8080/",
     "height": 185
    },
    "colab_type": "code",
    "id": "IDB22MQKMYaJ",
    "outputId": "4c03219e-a57c-4583-f439-6699fd0619bb"
   },
   "outputs": [
    {
     "name": "stdout",
     "output_type": "stream",
     "text": [
      "0 [ 4.48482998 11.25174404] 3173.15\n",
      "100 [45.72585319  4.1888622 ] 47.241658479938735\n",
      "200 [47.17894283  3.92053808] 45.93912681075118\n",
      "300 [47.23026391  3.91106125] 45.93750202928806\n"
     ]
    }
   ],
   "source": [
    "n = X.shape[0]\n",
    "alpha = 10 ** -1.5\n",
    "w = np.array([1, 0.5])\n",
    "\n",
    "for i in range(300 + 1):\n",
    "    y_pred = np.dot(w, X.T)\n",
    "    err = calc_mse(y, y_pred)\n",
    "    for j in range(w.shape[0]):\n",
    "        w[j] -= alpha * (1 / n * 2 * np.sum(X[:, j] * (y_pred - y)))\n",
    "    if i % 100 == 0:\n",
    "        print(i, w, err)  # МНК: array([47.23214286,  3.91071429]) 45.937499999999986"
   ]
  },
  {
   "cell_type": "markdown",
   "metadata": {
    "pycharm": {
     "name": "#%% md\n"
    }
   },
   "source": [
    "## Ответ: чем больше alpha - тем меньше итераций нужно для достижения результата МНК"
   ]
  },
  {
   "cell_type": "markdown",
   "metadata": {
    "colab_type": "text",
    "id": "5Qu1o4JhZYwI"
   },
   "source": [
    "*2. В этом коде мы избавляемся от итераций по весам, но тут есть ошибка, исправьте ее:"
   ]
  },
  {
   "cell_type": "code",
   "execution_count": 4,
   "metadata": {
    "colab": {
     "base_uri": "https://localhost:8080/",
     "height": 185
    },
    "colab_type": "code",
    "id": "WZZzDCQLY4pA",
    "outputId": "28f58ade-72f2-4381-809d-2417752d56e4"
   },
   "outputs": [
    {
     "name": "stdout",
     "output_type": "stream",
     "text": [
      "0 [ 4.48482998 11.25174404] 3173.15\n",
      "100 [45.72585319  4.1888622 ] 47.241658479938735\n",
      "200 [47.17894283  3.92053808] 45.93912681075118\n",
      "300 [47.23026391  3.91106125] 45.93750202928806\n",
      "400 [47.2320765   3.91072654] 45.937500002531365\n",
      "500 [47.23214051  3.91071472] 45.93750000000315\n",
      "600 [47.23214277  3.9107143 ] 45.9375\n",
      "700 [47.23214285  3.91071429] 45.937500000000014\n",
      "800 [47.23214286  3.91071429] 45.9375\n",
      "900 [47.23214286  3.91071429] 45.9375\n"
     ]
    }
   ],
   "source": [
    "w = np.array([1, 0.5])\n",
    "\n",
    "for i in range(1000):\n",
    "    y_pred = np.dot(w, X.T)\n",
    "    err = calc_mse(y, y_pred)\n",
    "    w -= (alpha * (1 / n * 2 * np.dot(X.T, (np.dot(w, X.T) - y))))\n",
    "    if i % 100 == 0:\n",
    "        print(i, w, err)  # [47.23214286  3.91071429] 45.937499999999986"
   ]
  },
  {
   "cell_type": "markdown",
   "metadata": {
    "colab": {},
    "colab_type": "code",
    "id": "kGLyytFgHdco"
   },
   "source": [
    "*3. Вместо того, чтобы задавать количество итераций, задайте условие остановки алгоритма - когда ошибка за итерацию начинает изменяться ниже определенного порога. \n",
    "\n",
    "Сколько нужно сделать итераций, если установить допустимое отклонение mse в размере $\\text{diff}=10^{-6}$, а значение $\\alpha=10^{-2}$?"
   ]
  },
  {
   "cell_type": "code",
   "execution_count": 5,
   "metadata": {
    "pycharm": {
     "name": "#%%\n"
    }
   },
   "outputs": [
    {
     "name": "stdout",
     "output_type": "stream",
     "text": [
      "0 [2.102 3.9  ] 3173.15\n",
      "100 [31.88770806  6.74418155] 175.19445858001842\n",
      "200 [41.83683774  4.90699865] 61.9177717428135\n",
      "300 [45.33508261  4.26102097] 47.913169919666785\n",
      "400 [46.56511152  4.03388672] 46.181755648107604\n",
      "500 [46.99760587  3.95402334] 45.96769776787538\n",
      "600 [47.14967657  3.92594232] 45.941233404700036\n",
      "700 [47.20314662  3.91606866] 45.93796156758051\n",
      "800 [47.2219474   3.91259695] 45.93755706443538\n",
      "Потребовалось 810 итераций для достижения заданного порога\n"
     ]
    }
   ],
   "source": [
    "w = np.array([1, 0.5])\n",
    "diff = 1e-6\n",
    "alpha = 1e-2\n",
    "\n",
    "err_prev, change = np.inf, np.inf\n",
    "i = 0\n",
    "\n",
    "while change > diff:\n",
    "    y_pred = np.dot(w, X.T)\n",
    "    err = calc_mse(y, y_pred)\n",
    "    w -= (alpha * (1 / n * 2 * np.dot(X.T, (np.dot(w, X.T) - y))))\n",
    "\n",
    "    change = err_prev - err\n",
    "    err_prev = err\n",
    "\n",
    "    if i % 100 == 0:\n",
    "        print(i, w, err)  # [47.23214286  3.91071429] 45.937499999999986\n",
    "    i += 1\n",
    "print(f\"Потребовалось {i} итераций для достижения заданного порога\")"
   ]
  }
 ],
 "metadata": {
  "colab": {
   "collapsed_sections": [],
   "name": "Lesson1.ipynb",
   "provenance": []
  },
  "kernelspec": {
   "display_name": "Python 3 (ipykernel)",
   "language": "python",
   "name": "python3"
  },
  "language_info": {
   "codemirror_mode": {
    "name": "ipython",
    "version": 3
   },
   "file_extension": ".py",
   "mimetype": "text/x-python",
   "name": "python",
   "nbconvert_exporter": "python",
   "pygments_lexer": "ipython3",
   "version": "3.9.6"
  },
  "toc": {
   "base_numbering": 1,
   "nav_menu": {},
   "number_sections": false,
   "sideBar": true,
   "skip_h1_title": true,
   "title_cell": "План занятия",
   "title_sidebar": "План",
   "toc_cell": true,
   "toc_position": {
    "height": "calc(100% - 180px)",
    "left": "10px",
    "top": "150px",
    "width": "165px"
   },
   "toc_section_display": true,
   "toc_window_display": true
  }
 },
 "nbformat": 4,
 "nbformat_minor": 1
}
