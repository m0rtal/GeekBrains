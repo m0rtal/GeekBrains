{
  "nbformat": 4,
  "nbformat_minor": 0,
  "metadata": {
    "colab": {
      "name": "Lesson 1-2",
      "provenance": [],
      "collapsed_sections": [],
      "authorship_tag": "ABX9TyORxx7+v/rm/yjuhPbqNtCf",
      "include_colab_link": true
    },
    "kernelspec": {
      "name": "python3",
      "display_name": "Python 3"
    }
  },
  "cells": [
    {
      "cell_type": "markdown",
      "metadata": {
        "id": "view-in-github",
        "colab_type": "text"
      },
      "source": [
        "<a href=\"https://colab.research.google.com/github/m0rtal/GeekBrains/blob/Lesson1-2/Lesson_1_2.ipynb\" target=\"_parent\"><img src=\"https://colab.research.google.com/assets/colab-badge.svg\" alt=\"Open In Colab\"/></a>"
      ]
    },
    {
      "cell_type": "markdown",
      "metadata": {
        "id": "AcY1XF8yDM2X"
      },
      "source": [
        "# Вычисления с помощью Numpy"
      ]
    },
    {
      "cell_type": "markdown",
      "metadata": {
        "id": "9ALWjBJu35Bd"
      },
      "source": [
        "## Задание 1\r\n",
        "Импортируйте библиотеку Numpy и дайте ей псевдоним np.\r\n",
        "Создайте массив Numpy под названием a размером 5x2, то есть состоящий из 5 строк и 2 столбцов.\r\n",
        "Первый столбец должен содержать числа 1, 2, 3, 3, 1, а второй - числа 6, 8, 11, 10, 7. Будем считать,\r\n",
        "что каждый столбец - это признак, а строка - наблюдение. Затем найдите среднее значение по\r\n",
        "каждому признаку, используя метод mean массива Numpy. Результат запишите в массив mean_a, в\r\n",
        "нем должно быть 2 элемента."
      ]
    },
    {
      "cell_type": "code",
      "metadata": {
        "id": "U3aNxhJC3w0x"
      },
      "source": [
        "import numpy as np"
      ],
      "execution_count": 1,
      "outputs": []
    },
    {
      "cell_type": "code",
      "metadata": {
        "colab": {
          "base_uri": "https://localhost:8080/"
        },
        "id": "guGNotFN4QzV",
        "outputId": "aaeb4e16-4b62-474b-a6d4-65a245165be3"
      },
      "source": [
        "a = np.array([[1, 2, 3, 3, 1], [6, 8, 11, 10, 7]]).transpose()\r\n",
        "print(a)"
      ],
      "execution_count": 22,
      "outputs": [
        {
          "output_type": "stream",
          "text": [
            "[[ 1  6]\n",
            " [ 2  8]\n",
            " [ 3 11]\n",
            " [ 3 10]\n",
            " [ 1  7]]\n"
          ],
          "name": "stdout"
        }
      ]
    },
    {
      "cell_type": "code",
      "metadata": {
        "colab": {
          "base_uri": "https://localhost:8080/"
        },
        "id": "GPL_x7Do49Mc",
        "outputId": "fc1b6449-1a28-44bd-b50e-1ec094a8177c"
      },
      "source": [
        "mean_a = a.mean(axis=0)\r\n",
        "print(mean_a)"
      ],
      "execution_count": 23,
      "outputs": [
        {
          "output_type": "stream",
          "text": [
            "[2.  8.4]\n"
          ],
          "name": "stdout"
        }
      ]
    },
    {
      "cell_type": "markdown",
      "metadata": {
        "id": "5XhY53Uy6v6D"
      },
      "source": [
        "## Задание 2\r\n",
        "Вычислите массив a_centered, отняв от значений массива “а” средние значения соответствующих\r\n",
        "признаков, содержащиеся в массиве mean_a. Вычисление должно производиться в одно действие.\r\n",
        "Получившийся массив должен иметь размер 5x2."
      ]
    },
    {
      "cell_type": "code",
      "metadata": {
        "colab": {
          "base_uri": "https://localhost:8080/"
        },
        "id": "98jHAaBc611N",
        "outputId": "d3afba92-bb0d-46f1-fb4e-d62202720445"
      },
      "source": [
        "a_centered = a - mean_a\r\n",
        "print(a_centered)\r\n",
        "print(a_centered.shape)"
      ],
      "execution_count": 24,
      "outputs": [
        {
          "output_type": "stream",
          "text": [
            "[[-1.  -2.4]\n",
            " [ 0.  -0.4]\n",
            " [ 1.   2.6]\n",
            " [ 1.   1.6]\n",
            " [-1.  -1.4]]\n",
            "(5, 2)\n"
          ],
          "name": "stdout"
        }
      ]
    },
    {
      "cell_type": "markdown",
      "metadata": {
        "id": "52OpEohh_wae"
      },
      "source": [
        "## Задание 3\r\n",
        "Найдите скалярное произведение столбцов массива a_centered. В результате должна получиться\r\n",
        "величина a_centered_sp. Затем поделите a_centered_sp на N-1, где N - число наблюдений."
      ]
    },
    {
      "cell_type": "code",
      "metadata": {
        "colab": {
          "base_uri": "https://localhost:8080/"
        },
        "id": "XXkUY5ol-8R4",
        "outputId": "4c139415-efe6-4e31-c5a9-3bd52bffdbad"
      },
      "source": [
        "a_centered_sp = np.dot(a_centered[:, 0], a_centered[:, 1])\r\n",
        "print(a_centered_sp)"
      ],
      "execution_count": 31,
      "outputs": [
        {
          "output_type": "stream",
          "text": [
            "8.0\n"
          ],
          "name": "stdout"
        }
      ]
    },
    {
      "cell_type": "code",
      "metadata": {
        "colab": {
          "base_uri": "https://localhost:8080/"
        },
        "id": "SJsA1vwwAilG",
        "outputId": "77b48634-630d-49a8-ec4b-25736d64351d"
      },
      "source": [
        "cov = a_centered_sp/(len(a)-1)\r\n",
        "print(cov)"
      ],
      "execution_count": 37,
      "outputs": [
        {
          "output_type": "stream",
          "text": [
            "2.0\n"
          ],
          "name": "stdout"
        }
      ]
    },
    {
      "cell_type": "markdown",
      "metadata": {
        "id": "Fn5-QJ1WBZh4"
      },
      "source": [
        "## Задание 4\r\n",
        "Число, которое мы получили в конце задания 3 является ковариацией двух признаков, содержащихся\r\n",
        "в массиве “а”. В задании 4 мы делили сумму произведений центрированных признаков на N-1, а не на\r\n",
        "N, поэтому полученная нами величина является несмещенной оценкой ковариации.\r\n",
        "В этом задании проверьте получившееся число, вычислив ковариацию еще одним способом - с\r\n",
        "помощью функции np.cov. В качестве аргумента m функция np.cov должна принимать\r\n",
        "транспонированный массив “a”. В получившейся ковариационной матрице (массив Numpy размером\r\n",
        "2x2) искомое значение ковариации будет равно элементу в строке с индексом 0 и столбце с индексом\r\n",
        "1."
      ]
    },
    {
      "cell_type": "code",
      "metadata": {
        "colab": {
          "base_uri": "https://localhost:8080/"
        },
        "id": "X-Z7BIrQBfZL",
        "outputId": "8a58699e-7bfa-426b-c7c9-e84f4b11585b"
      },
      "source": [
        "cov2 = np.cov(m=a.transpose())[0,1]\r\n",
        "print(cov==cov2)"
      ],
      "execution_count": 40,
      "outputs": [
        {
          "output_type": "stream",
          "text": [
            "True\n"
          ],
          "name": "stdout"
        }
      ]
    },
    {
      "cell_type": "markdown",
      "metadata": {
        "id": "1iES2xtQDgEn"
      },
      "source": [
        "# Работа с данными в Pandas"
      ]
    },
    {
      "cell_type": "markdown",
      "metadata": {
        "id": "hkEe1MV4FYIH"
      },
      "source": [
        "## Задание 1\r\n",
        "Импортируйте библиотеку Pandas и дайте ей псевдоним pd. Создайте датафрейм authors со\r\n",
        "столбцами author_id и author_name, в которых соответственно содержатся данные: [1, 2, 3] и\r\n",
        "['Тургенев', 'Чехов', 'Островский'].\r\n",
        "Затем создайте датафрейм book cо столбцами author_id, book_title и price, в которых соответственно\r\n",
        "содержатся данные:\r\n",
        "[1, 1, 1, 2, 2, 3, 3],\r\n",
        "['Отцы и дети', 'Рудин', 'Дворянское гнездо', 'Толстый и тонкий', 'Дама с собачкой', 'Гроза', 'Таланты и\r\n",
        "поклонники'],\r\n",
        "[450, 300, 350, 500, 450, 370, 290]."
      ]
    },
    {
      "cell_type": "code",
      "metadata": {
        "id": "VWB1O9LoDjLM"
      },
      "source": [
        "import pandas as pd"
      ],
      "execution_count": 41,
      "outputs": []
    },
    {
      "cell_type": "code",
      "metadata": {
        "colab": {
          "base_uri": "https://localhost:8080/"
        },
        "id": "1PljOY6qFeoX",
        "outputId": "6fc5a545-e58a-4bc1-938d-016aba75cbfd"
      },
      "source": [
        "data1 = {\r\n",
        "    \"author_id\": [1,2,3],\r\n",
        "    \"author_name\": ['Тургенев', 'Чехов', 'Островский']\r\n",
        "}\r\n",
        "authors = pd.DataFrame(data1)\r\n",
        "print(authors)"
      ],
      "execution_count": 44,
      "outputs": [
        {
          "output_type": "stream",
          "text": [
            "   author_id author_name\n",
            "0          1    Тургенев\n",
            "1          2       Чехов\n",
            "2          3  Островский\n"
          ],
          "name": "stdout"
        }
      ]
    },
    {
      "cell_type": "code",
      "metadata": {
        "colab": {
          "base_uri": "https://localhost:8080/"
        },
        "id": "E9jx9eYQQZ7t",
        "outputId": "68df57d8-2105-4134-dddb-cb2a831e6dfd"
      },
      "source": [
        "data2 = {\r\n",
        "    \"author_id\": [1, 1, 1, 2, 2, 3, 3],\r\n",
        "    \"book_title\": ['Отцы и дети', 'Рудин', 'Дворянское гнездо', 'Толстый и тонкий', 'Дама с собачкой', 'Гроза', 'Таланты и поклонники'],\r\n",
        "    \"price\": [450, 300, 350, 500, 450, 370, 290]\r\n",
        "}\r\n",
        "book = pd.DataFrame(data2)\r\n",
        "print(book)"
      ],
      "execution_count": 45,
      "outputs": [
        {
          "output_type": "stream",
          "text": [
            "   author_id            book_title  price\n",
            "0          1           Отцы и дети    450\n",
            "1          1                 Рудин    300\n",
            "2          1     Дворянское гнездо    350\n",
            "3          2      Толстый и тонкий    500\n",
            "4          2       Дама с собачкой    450\n",
            "5          3                 Гроза    370\n",
            "6          3  Таланты и поклонники    290\n"
          ],
          "name": "stdout"
        }
      ]
    },
    {
      "cell_type": "markdown",
      "metadata": {
        "id": "Lv-ITvtcRE1k"
      },
      "source": [
        "## Задание 2\r\n",
        "Получите датафрейм authors_price, соединив датафреймы authors и books по полю author_id."
      ]
    },
    {
      "cell_type": "code",
      "metadata": {
        "colab": {
          "base_uri": "https://localhost:8080/"
        },
        "id": "vZyk1gh9RKSB",
        "outputId": "6cdbec4b-7166-427e-da13-f8a8826dcc56"
      },
      "source": [
        "authors_price = pd.merge(authors, book, on=\"author_id\", how=\"outer\")\r\n",
        "print(authors_price)"
      ],
      "execution_count": 52,
      "outputs": [
        {
          "output_type": "stream",
          "text": [
            "   author_id author_name            book_title  price\n",
            "0          1    Тургенев           Отцы и дети    450\n",
            "1          1    Тургенев                 Рудин    300\n",
            "2          1    Тургенев     Дворянское гнездо    350\n",
            "3          2       Чехов      Толстый и тонкий    500\n",
            "4          2       Чехов       Дама с собачкой    450\n",
            "5          3  Островский                 Гроза    370\n",
            "6          3  Островский  Таланты и поклонники    290\n"
          ],
          "name": "stdout"
        }
      ]
    },
    {
      "cell_type": "markdown",
      "metadata": {
        "id": "gdhIz8UgUFFD"
      },
      "source": [
        "## Задание 3\r\n",
        "Создайте датафрейм top5, в котором содержатся строки из authors_price с пятью самыми дорогими\r\n",
        "книгами."
      ]
    },
    {
      "cell_type": "code",
      "metadata": {
        "colab": {
          "base_uri": "https://localhost:8080/"
        },
        "id": "qJrx8s8TUJES",
        "outputId": "5fd56793-4588-4936-f923-695844c9ddce"
      },
      "source": [
        "top5 = authors_price.sort_values(by=\"price\", ascending=False).head(5)\r\n",
        "print(top5)"
      ],
      "execution_count": 95,
      "outputs": [
        {
          "output_type": "stream",
          "text": [
            "   author_id author_name         book_title  price\n",
            "3          2       Чехов   Толстый и тонкий    500\n",
            "0          1    Тургенев        Отцы и дети    450\n",
            "4          2       Чехов    Дама с собачкой    450\n",
            "5          3  Островский              Гроза    370\n",
            "2          1    Тургенев  Дворянское гнездо    350\n"
          ],
          "name": "stdout"
        }
      ]
    },
    {
      "cell_type": "markdown",
      "metadata": {
        "id": "4za9R8AaV-ZE"
      },
      "source": [
        "## Задание 4\r\n",
        "Создайте датафрейм authors_stat на основе информации из authors_price. В датафрейме authors_stat\r\n",
        "должны быть четыре столбца:\r\n",
        "author_name, min_price, max_price и mean_price,\r\n",
        "в которых должны содержаться соответственно имя автора, минимальная, максимальная и средняя\r\n",
        "цена на книги этого автора."
      ]
    },
    {
      "cell_type": "code",
      "metadata": {
        "colab": {
          "base_uri": "https://localhost:8080/"
        },
        "id": "7G3eTjjiV_2F",
        "outputId": "aeca8377-25cc-4482-f32a-7845061a98e5"
      },
      "source": [
        "authors_stat = authors_price.groupby(\"author_name\")[\"price\"].agg([\"min\", \"max\", \"mean\"])\r\n",
        "authors_stat.columns=[\"min_price\", \"max_price\", \"mean_price\"]\r\n",
        "print(authors_stat)"
      ],
      "execution_count": 115,
      "outputs": [
        {
          "output_type": "stream",
          "text": [
            "             min_price  max_price  mean_price\n",
            "author_name                                  \n",
            "Островский         290        370  330.000000\n",
            "Тургенев           300        450  366.666667\n",
            "Чехов              450        500  475.000000\n"
          ],
          "name": "stdout"
        }
      ]
    },
    {
      "cell_type": "markdown",
      "metadata": {
        "id": "HtomyupC__5f"
      },
      "source": [
        "## Задание 5\r\n",
        "Создайте новый столбец в датафрейме authors_price под названием cover, в нем будут располагаться\r\n",
        "данные о том, какая обложка у данной книги - твердая или мягкая. В этот столбец поместите данные\r\n",
        "из следующего списка:\r\n",
        "['твердая', 'мягкая', 'мягкая', 'твердая', 'твердая', 'мягкая', 'мягкая'].\r\n",
        "Просмотрите документацию по функции pd.pivot_table с помощью вопросительного знака.Для каждого\r\n",
        "автора посчитайте суммарную стоимость книг в твердой и мягкой обложке. Используйте для этого\r\n",
        "функцию pd.pivot_table. При этом столбцы должны называться \"твердая\" и \"мягкая\", а индексами\r\n",
        "должны быть фамилии авторов. Пропущенные значения стоимостей заполните нулями, при\r\n",
        "необходимости загрузите библиотеку Numpy.\r\n",
        "Назовите полученный датасет book_info и сохраните его в формат pickle под названием\r\n",
        "\"book_info.pkl\". Затем загрузите из этого файла датафрейм и назовите его book_info2. Удостоверьтесь,\r\n",
        "что датафреймы book_info и book_info2 идентичны."
      ]
    },
    {
      "cell_type": "code",
      "metadata": {
        "colab": {
          "base_uri": "https://localhost:8080/"
        },
        "id": "80plcs5UAE5I",
        "outputId": "adf107e4-8a48-4a3f-8039-d793ce0495b2"
      },
      "source": [
        "authors_price[\"cover\"] = ['твердая', 'мягкая', 'мягкая', 'твердая', 'твердая', 'мягкая', 'мягкая']\r\n",
        "book_info = pd.pivot_table(authors_price,\r\n",
        "                           index=\"author_name\",\r\n",
        "                           columns=\"cover\",\r\n",
        "                           values=\"price\",\r\n",
        "                           aggfunc=np.sum,\r\n",
        "                           fill_value=0)\r\n",
        "print(book_info)"
      ],
      "execution_count": 124,
      "outputs": [
        {
          "output_type": "stream",
          "text": [
            "cover        мягкая  твердая\n",
            "author_name                 \n",
            "Островский      660        0\n",
            "Тургенев        650      450\n",
            "Чехов             0      950\n"
          ],
          "name": "stdout"
        }
      ]
    },
    {
      "cell_type": "code",
      "metadata": {
        "colab": {
          "base_uri": "https://localhost:8080/"
        },
        "id": "_mZCmy3hGDNO",
        "outputId": "8ea783be-ae98-4e02-eaf2-704135f0235f"
      },
      "source": [
        "book_info.to_pickle(\"book_info.pkl\")\r\n",
        "book_info2 = pd.read_pickle(\"book_info.pkl\")\r\n",
        "print(book_info.equals(book_info2))"
      ],
      "execution_count": 129,
      "outputs": [
        {
          "output_type": "stream",
          "text": [
            "True\n"
          ],
          "name": "stdout"
        }
      ]
    }
  ]
}